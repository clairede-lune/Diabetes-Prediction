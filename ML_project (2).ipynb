{
  "nbformat": 4,
  "nbformat_minor": 0,
  "metadata": {
    "colab": {
      "provenance": []
    },
    "kernelspec": {
      "name": "python3",
      "display_name": "Python 3"
    },
    "language_info": {
      "name": "python"
    }
  },
  "cells": [
    {
      "cell_type": "markdown",
      "source": [
        "Dataset preprocessing\n",
        "\n"
      ],
      "metadata": {
        "id": "4E713sECyCfH"
      }
    },
    {
      "cell_type": "markdown",
      "source": [
        "Dataset 1\n"
      ],
      "metadata": {
        "id": "tSIhD2AQD6G8"
      }
    },
    {
      "cell_type": "code",
      "source": [
        "import pandas as pd\n",
        "df1 = pd.read_csv('diabetes.csv')"
      ],
      "metadata": {
        "id": "HxleYsxPyG_r"
      },
      "execution_count": null,
      "outputs": []
    },
    {
      "cell_type": "code",
      "source": [
        "df1.info()"
      ],
      "metadata": {
        "colab": {
          "base_uri": "https://localhost:8080/"
        },
        "id": "xLY5gwOBGbTp",
        "outputId": "81043150-1247-44a6-a855-ad452282bd3d"
      },
      "execution_count": null,
      "outputs": [
        {
          "output_type": "stream",
          "name": "stdout",
          "text": [
            "<class 'pandas.core.frame.DataFrame'>\n",
            "RangeIndex: 768 entries, 0 to 767\n",
            "Data columns (total 9 columns):\n",
            " #   Column                    Non-Null Count  Dtype  \n",
            "---  ------                    --------------  -----  \n",
            " 0   Pregnancies               768 non-null    int64  \n",
            " 1   Glucose                   768 non-null    int64  \n",
            " 2   BloodPressure             768 non-null    int64  \n",
            " 3   SkinThickness             768 non-null    int64  \n",
            " 4   Insulin                   768 non-null    int64  \n",
            " 5   BMI                       768 non-null    float64\n",
            " 6   DiabetesPedigreeFunction  768 non-null    float64\n",
            " 7   Age                       768 non-null    int64  \n",
            " 8   Outcome                   768 non-null    int64  \n",
            "dtypes: float64(2), int64(7)\n",
            "memory usage: 54.1 KB\n"
          ]
        }
      ]
    },
    {
      "cell_type": "markdown",
      "source": [
        "Code\n"
      ],
      "metadata": {
        "id": "93dkgVaSyASG"
      }
    },
    {
      "cell_type": "code",
      "execution_count": null,
      "metadata": {
        "colab": {
          "base_uri": "https://localhost:8080/"
        },
        "id": "2gUkmd7ftQu6",
        "outputId": "5cf51fe2-c95b-4bfa-c760-4ed8a5d23de0"
      },
      "outputs": [
        {
          "output_type": "stream",
          "name": "stdout",
          "text": [
            "Requirement already satisfied: scikit-learn in /usr/local/lib/python3.10/dist-packages (1.2.2)\n",
            "Requirement already satisfied: numpy>=1.17.3 in /usr/local/lib/python3.10/dist-packages (from scikit-learn) (1.23.5)\n",
            "Requirement already satisfied: scipy>=1.3.2 in /usr/local/lib/python3.10/dist-packages (from scikit-learn) (1.11.4)\n",
            "Requirement already satisfied: joblib>=1.1.1 in /usr/local/lib/python3.10/dist-packages (from scikit-learn) (1.3.2)\n",
            "Requirement already satisfied: threadpoolctl>=2.0.0 in /usr/local/lib/python3.10/dist-packages (from scikit-learn) (3.2.0)\n"
          ]
        }
      ],
      "source": [
        "pip install scikit-learn\n"
      ]
    },
    {
      "cell_type": "code",
      "source": [
        "# Import necessary libraries\n",
        "from sklearn.model_selection import train_test_split\n",
        "from sklearn.ensemble import GradientBoostingClassifier\n",
        "from sklearn.metrics import accuracy_score, classification_report, confusion_matrix\n",
        "\n",
        "# Assuming your DataFrame is named 'df'\n",
        "# Separate features (X) and target variable (y)\n",
        "X = df1.drop('Outcome', axis=1)\n",
        "#X = df1[['BloodPressure', 'SkinThickness', 'Insulin', 'BMI', 'DiabetesPedigreeFunction' ]]\n",
        "y = df1['Outcome']\n",
        "\n",
        "# Split the dataset into training and testing sets\n",
        "X_train, X_test, y_train, y_test = train_test_split(X, y, test_size=0.2, random_state=42)\n",
        "\n",
        "# Initialize the Gradient Boosting Classifier\n",
        "# You can tweak hyperparameters such as n_estimators, learning_rate, max_depth, etc.\n",
        "gb_classifier = GradientBoostingClassifier(n_estimators=100, learning_rate=0.1, max_depth=3, random_state=42)\n",
        "\n",
        "# Fit the model to the training data\n",
        "gb_classifier.fit(X_train, y_train)\n",
        "\n",
        "# Make predictions on the test set\n",
        "y_pred = gb_classifier.predict(X_test)\n",
        "\n",
        "# Evaluate the model\n",
        "accuracy = accuracy_score(y_test, y_pred)\n",
        "conf_matrix = confusion_matrix(y_test, y_pred)\n",
        "classification_rep = classification_report(y_test, y_pred)\n",
        "\n",
        "# Print the results\n",
        "print(f'Accuracy: {accuracy:.2f}')\n",
        "print('\\nConfusion Matrix:')\n",
        "print(conf_matrix)\n",
        "print('\\nClassification Report:')\n",
        "print(classification_rep)\n"
      ],
      "metadata": {
        "colab": {
          "base_uri": "https://localhost:8080/"
        },
        "id": "vysoixndG9DP",
        "outputId": "9137f794-aa75-4401-c6e3-f13c850f3daa"
      },
      "execution_count": null,
      "outputs": [
        {
          "output_type": "stream",
          "name": "stdout",
          "text": [
            "Accuracy: 0.74\n",
            "\n",
            "Confusion Matrix:\n",
            "[[77 22]\n",
            " [18 37]]\n",
            "\n",
            "Classification Report:\n",
            "              precision    recall  f1-score   support\n",
            "\n",
            "           0       0.81      0.78      0.79        99\n",
            "           1       0.63      0.67      0.65        55\n",
            "\n",
            "    accuracy                           0.74       154\n",
            "   macro avg       0.72      0.73      0.72       154\n",
            "weighted avg       0.75      0.74      0.74       154\n",
            "\n"
          ]
        }
      ]
    },
    {
      "cell_type": "code",
      "source": [
        "import pandas as pd\n",
        "import seaborn as sns\n",
        "import matplotlib.pyplot as plt\n",
        "from sklearn.model_selection import train_test_split, GridSearchCV\n",
        "from sklearn.ensemble import GradientBoostingClassifier\n",
        "from sklearn.metrics import roc_curve, auc, accuracy_score, classification_report, confusion_matrix\n",
        "from sklearn.impute import SimpleImputer\n",
        "from imblearn.over_sampling import RandomOverSampler\n",
        "\n",
        "# Separate features and target variable\n",
        "X = df1[['BloodPressure', 'SkinThickness', 'Insulin', 'BMI', 'DiabetesPedigreeFunction' ]]  # Features\n",
        "y = df1['Outcome']  # Target variable\n",
        "\n",
        "# Split the data into training and test sets (adjust test_size and random_state)\n",
        "X_train, X_test, y_train, y_test = train_test_split(X, y, test_size=0.2, random_state=42)\n",
        "\n",
        "# Apply oversampling to handle class imbalance\n",
        "oversampler = RandomOverSampler(random_state=42)\n",
        "X_train_resampled, y_train_resampled = oversampler.fit_resample(X_train, y_train)\n",
        "\n",
        "# Impute missing values using mean imputation\n",
        "imputer = SimpleImputer(strategy='mean')\n",
        "X_train_resampled_imputed = imputer.fit_transform(X_train_resampled)\n",
        "X_test_imputed = imputer.transform(X_test)\n",
        "\n",
        "# Initialize a gradient boosting classifier\n",
        "clf = GradientBoostingClassifier(random_state=42)\n",
        "\n",
        "# Define a parameter grid to search over\n",
        "param_grid = {\n",
        "    'n_estimators': [50, 100, 150],\n",
        "    'learning_rate': [0.01, 0.1, 0.2],\n",
        "    'max_depth': [3, 4, 5]\n",
        "}\n",
        "\n",
        "# Create the GridSearchCV object\n",
        "grid_search = GridSearchCV(estimator=clf, param_grid=param_grid, scoring='accuracy', cv=3)\n",
        "\n",
        "# Train the classifier with the resampled and imputed data using grid search\n",
        "grid_search.fit(X_train_resampled_imputed, y_train_resampled)\n",
        "\n",
        "# Get the best parameters and best estimator from the grid search\n",
        "best_params = grid_search.best_params_\n",
        "best_estimator = grid_search.best_estimator_\n",
        "\n",
        "# Predict the probability of the positive class for the ROC curve\n",
        "y_prob = best_estimator.predict_proba(X_test_imputed)[:, 1]\n",
        "\n",
        "# Calculate ROC curve\n",
        "fpr, tpr, thresholds = roc_curve(y_test, y_prob)\n",
        "\n",
        "# Calculate AUC-ROC\n",
        "roc_auc = auc(fpr, tpr)\n",
        "\n",
        "# Plot ROC curve\n",
        "plt.figure(figsize=(8, 8))\n",
        "plt.plot(fpr, tpr, color='red', lw=2, label='ROC curve (area = {:.2f})'.format(roc_auc))\n",
        "plt.plot([0, 1], [0, 1], color='navy', lw=2, linestyle='--')\n",
        "plt.xlim([0.0, 1.0])\n",
        "plt.ylim([0.0, 1.05])\n",
        "plt.xlabel('False Positive Rate')\n",
        "plt.ylabel('True Positive Rate')\n",
        "plt.title('Receiver Operating Characteristic (ROC) Curve')\n",
        "plt.legend(loc='lower right')\n",
        "plt.show()\n",
        "\n",
        "# Print additional evaluation metrics\n",
        "y_pred = best_estimator.predict(X_test_imputed)\n",
        "print(\"Best Parameters:\", best_params)\n",
        "print(\"Accuracy:\", accuracy_score(y_test, y_pred))\n",
        "print(classification_report(y_test, y_pred))\n",
        "print(confusion_matrix(y_test, y_pred))\n"
      ],
      "metadata": {
        "colab": {
          "base_uri": "https://localhost:8080/",
          "height": 944
        },
        "id": "nt9ztuHKq-Pd",
        "outputId": "99fa08b0-5821-4805-ccd2-71a28b7de356"
      },
      "execution_count": null,
      "outputs": [
        {
          "output_type": "display_data",
          "data": {
            "text/plain": [
              "<Figure size 800x800 with 1 Axes>"
            ],
            "image/png": "[encoded data removed]"
          },
          "metadata": {}
        },
        {
          "output_type": "stream",
          "name": "stdout",
          "text": [
            "Best Parameters: {'learning_rate': 0.2, 'max_depth': 4, 'n_estimators': 150}\n",
            "Accuracy: 0.6753246753246753\n",
            "              precision    recall  f1-score   support\n",
            "\n",
            "           0       0.76      0.73      0.74        99\n",
            "           1       0.54      0.58      0.56        55\n",
            "\n",
            "    accuracy                           0.68       154\n",
            "   macro avg       0.65      0.65      0.65       154\n",
            "weighted avg       0.68      0.68      0.68       154\n",
            "\n",
            "[[72 27]\n",
            " [23 32]]\n"
          ]
        }
      ]
    },
    {
      "cell_type": "markdown",
      "source": [
        "Dataset 2"
      ],
      "metadata": {
        "id": "Sgi9ozUDUFyH"
      }
    },
    {
      "cell_type": "code",
      "source": [
        "import pandas as pd\n",
        "df2 = pd.read_csv('diabetes_prediction_dataset.csv')"
      ],
      "metadata": {
        "id": "OBvX5i_qUHDF"
      },
      "execution_count": null,
      "outputs": []
    },
    {
      "cell_type": "code",
      "source": [
        "df2.info()\n",
        "df2.all()"
      ],
      "metadata": {
        "colab": {
          "base_uri": "https://localhost:8080/"
        },
        "id": "6_xtz3TEUqkG",
        "outputId": "2aa43bda-5c24-4af9-d132-91705209956d"
      },
      "execution_count": null,
      "outputs": [
        {
          "output_type": "stream",
          "name": "stdout",
          "text": [
            "<class 'pandas.core.frame.DataFrame'>\n",
            "RangeIndex: 100000 entries, 0 to 99999\n",
            "Data columns (total 9 columns):\n",
            " #   Column               Non-Null Count   Dtype  \n",
            "---  ------               --------------   -----  \n",
            " 0   gender               100000 non-null  object \n",
            " 1   age                  100000 non-null  float64\n",
            " 2   hypertension         100000 non-null  int64  \n",
            " 3   heart_disease        100000 non-null  int64  \n",
            " 4   smoking_history      100000 non-null  object \n",
            " 5   bmi                  100000 non-null  float64\n",
            " 6   HbA1c_level          100000 non-null  float64\n",
            " 7   blood_glucose_level  100000 non-null  int64  \n",
            " 8   Outcome              100000 non-null  int64  \n",
            "dtypes: float64(3), int64(4), object(2)\n",
            "memory usage: 6.9+ MB\n"
          ]
        },
        {
          "output_type": "execute_result",
          "data": {
            "text/plain": [
              "gender                  True\n",
              "age                     True\n",
              "hypertension           False\n",
              "heart_disease          False\n",
              "smoking_history         True\n",
              "bmi                     True\n",
              "HbA1c_level             True\n",
              "blood_glucose_level     True\n",
              "Outcome                False\n",
              "dtype: bool"
            ]
          },
          "metadata": {},
          "execution_count": 16
        }
      ]
    },
    {
      "cell_type": "code",
      "source": [
        "print(df2.dtypes)\n",
        "print(df2['gender'].unique())\n",
        "print(df2['smoking_history'].unique())"
      ],
      "metadata": {
        "colab": {
          "base_uri": "https://localhost:8080/"
        },
        "id": "NnCEdHe9VvR3",
        "outputId": "1154fb91-5f07-44b4-baea-ca90cd6cd643"
      },
      "execution_count": null,
      "outputs": [
        {
          "output_type": "stream",
          "name": "stdout",
          "text": [
            "gender                  object\n",
            "age                    float64\n",
            "hypertension             int64\n",
            "heart_disease            int64\n",
            "smoking_history         object\n",
            "bmi                    float64\n",
            "HbA1c_level            float64\n",
            "blood_glucose_level      int64\n",
            "Outcome                  int64\n",
            "dtype: object\n",
            "['Female' 'Male' 'Other']\n",
            "['never' 'No Info' 'current' 'former' 'ever' 'not current']\n"
          ]
        }
      ]
    },
    {
      "cell_type": "code",
      "source": [
        "from sklearn.preprocessing import LabelEncoder\n",
        "\n",
        "# Assuming your DataFrame is named 'df'\n",
        "# List of columns with string values\n",
        "string_columns = ['gender', 'smoking_history']\n",
        "\n",
        "# Initialize LabelEncoder\n",
        "label_encoder = LabelEncoder()\n",
        "\n",
        "# Convert string values to float in the specified columns\n",
        "for column in string_columns:\n",
        "    df2[column] = label_encoder.fit_transform(df2[column])\n",
        "\n",
        "# Display the modified DataFrame\n",
        "print(df2.head())\n"
      ],
      "metadata": {
        "colab": {
          "base_uri": "https://localhost:8080/"
        },
        "id": "LWYjfxyKVWQx",
        "outputId": "f72082d5-5184-4e1c-d29c-4c5b44683f55"
      },
      "execution_count": null,
      "outputs": [
        {
          "output_type": "stream",
          "name": "stdout",
          "text": [
            "   gender   age  hypertension  heart_disease  smoking_history    bmi  \\\n",
            "0       0  80.0             0              1                4  25.19   \n",
            "1       0  54.0             0              0                0  27.32   \n",
            "2       1  28.0             0              0                4  27.32   \n",
            "3       0  36.0             0              0                1  23.45   \n",
            "4       1  76.0             1              1                1  20.14   \n",
            "\n",
            "   HbA1c_level  blood_glucose_level  Outcome  \n",
            "0          6.6                  140        0  \n",
            "1          6.6                   80        0  \n",
            "2          5.7                  158        0  \n",
            "3          5.0                  155        0  \n",
            "4          4.8                  155        0  \n"
          ]
        }
      ]
    },
    {
      "cell_type": "code",
      "source": [
        "print(df2.dtypes)\n",
        "print(df2['gender'].unique())\n",
        "print(df2['smoking_history'].unique())\n"
      ],
      "metadata": {
        "colab": {
          "base_uri": "https://localhost:8080/"
        },
        "id": "BCKsL6KyVekB",
        "outputId": "192703ab-4b65-473b-e8d1-7a45a053d42a"
      },
      "execution_count": null,
      "outputs": [
        {
          "output_type": "stream",
          "name": "stdout",
          "text": [
            "gender                   int64\n",
            "age                    float64\n",
            "hypertension             int64\n",
            "heart_disease            int64\n",
            "smoking_history          int64\n",
            "bmi                    float64\n",
            "HbA1c_level            float64\n",
            "blood_glucose_level      int64\n",
            "Outcome                  int64\n",
            "dtype: object\n",
            "[0 1 2]\n",
            "[4 0 1 3 2 5]\n"
          ]
        }
      ]
    },
    {
      "cell_type": "markdown",
      "source": [
        "Code"
      ],
      "metadata": {
        "id": "mf3vyldtWEXW"
      }
    },
    {
      "cell_type": "code",
      "source": [
        "# Import necessary libraries\n",
        "from sklearn.model_selection import train_test_split\n",
        "from sklearn.ensemble import GradientBoostingClassifier\n",
        "from sklearn.metrics import accuracy_score, classification_report, confusion_matrix\n",
        "\n",
        "# Assuming your DataFrame is named 'df'\n",
        "# Separate features (X) and target variable (y)\n",
        "X = df2.drop('Outcome', axis=1)\n",
        "y = df2['Outcome']\n",
        "\n",
        "# Split the dataset into training and testing sets\n",
        "X_train, X_test, y_train, y_test = train_test_split(X, y, test_size=0.2, random_state=42)\n",
        "\n",
        "# Initialize the Gradient Boosting Classifier\n",
        "# You can tweak hyperparameters such as n_estimators, learning_rate, max_depth, etc.\n",
        "gb_classifier = GradientBoostingClassifier(n_estimators=100, learning_rate=0.1, max_depth=3, random_state=42)\n",
        "\n",
        "# Fit the model to the training data\n",
        "gb_classifier.fit(X_train, y_train)\n",
        "\n",
        "# Make predictions on the test set\n",
        "y_pred = gb_classifier.predict(X_test)\n",
        "\n",
        "# Evaluate the model\n",
        "accuracy = accuracy_score(y_test, y_pred)\n",
        "conf_matrix = confusion_matrix(y_test, y_pred)\n",
        "classification_rep = classification_report(y_test, y_pred)\n",
        "\n",
        "# Print the results\n",
        "print(f'Accuracy: {accuracy:.2f}')\n",
        "print('\\nConfusion Matrix:')\n",
        "print(conf_matrix)\n",
        "print('\\nClassification Report:')\n",
        "print(classification_rep)\n"
      ],
      "metadata": {
        "colab": {
          "base_uri": "https://localhost:8080/"
        },
        "id": "-PKUQAz6Udz6",
        "outputId": "6153436a-c3c1-4dc1-a8ab-2e212eae7cbf"
      },
      "execution_count": null,
      "outputs": [
        {
          "output_type": "stream",
          "name": "stdout",
          "text": [
            "Accuracy: 0.97\n",
            "\n",
            "Confusion Matrix:\n",
            "[[18277    15]\n",
            " [  536  1172]]\n",
            "\n",
            "Classification Report:\n",
            "              precision    recall  f1-score   support\n",
            "\n",
            "           0       0.97      1.00      0.99     18292\n",
            "           1       0.99      0.69      0.81      1708\n",
            "\n",
            "    accuracy                           0.97     20000\n",
            "   macro avg       0.98      0.84      0.90     20000\n",
            "weighted avg       0.97      0.97      0.97     20000\n",
            "\n"
          ]
        }
      ]
    },
    {
      "cell_type": "markdown",
      "source": [
        "Dataset 3"
      ],
      "metadata": {
        "id": "pMmkjV5eWG5M"
      }
    },
    {
      "cell_type": "code",
      "source": [
        "import pandas as pd\n",
        "df3 = pd.read_csv('diabetes3.csv')"
      ],
      "metadata": {
        "id": "PE_hDDtcWIdd"
      },
      "execution_count": null,
      "outputs": []
    },
    {
      "cell_type": "markdown",
      "source": [
        "Code"
      ],
      "metadata": {
        "id": "vPfWnbeqYFEw"
      }
    },
    {
      "cell_type": "code",
      "source": [
        "print(df3.dtypes)\n"
      ],
      "metadata": {
        "colab": {
          "base_uri": "https://localhost:8080/"
        },
        "id": "T45BQtI2YEhV",
        "outputId": "1960c18f-07df-4d4a-c2b9-421813c51e54"
      },
      "execution_count": null,
      "outputs": [
        {
          "output_type": "stream",
          "name": "stdout",
          "text": [
            "Outcome                 int64\n",
            "HighBP                  int64\n",
            "HighChol                int64\n",
            "CholCheck               int64\n",
            "BMI                     int64\n",
            "Smoker                  int64\n",
            "Stroke                  int64\n",
            "HeartDiseaseorAttack    int64\n",
            "PhysActivity            int64\n",
            "Fruits                  int64\n",
            "Veggies                 int64\n",
            "HvyAlcoholConsump       int64\n",
            "AnyHealthcare           int64\n",
            "NoDocbcCost             int64\n",
            "GenHlth                 int64\n",
            "MentHlth                int64\n",
            "PhysHlth                int64\n",
            "DiffWalk                int64\n",
            "Sex                     int64\n",
            "Age                     int64\n",
            "Education               int64\n",
            "Income                  int64\n",
            "dtype: object\n"
          ]
        }
      ]
    },
    {
      "cell_type": "markdown",
      "source": [
        "Code"
      ],
      "metadata": {
        "id": "8uR9t_I2eLsU"
      }
    },
    {
      "cell_type": "code",
      "source": [
        "# Import necessary libraries\n",
        "from sklearn.model_selection import train_test_split\n",
        "from sklearn.ensemble import GradientBoostingClassifier\n",
        "from sklearn.metrics import accuracy_score, classification_report, confusion_matrix\n",
        "\n",
        "# Assuming your DataFrame is named 'df'\n",
        "# Separate features (X) and target variable (y)\n",
        "X = df3.drop('Outcome', axis=1)\n",
        "y = df3['Outcome']\n",
        "\n",
        "# Split the dataset into training and testing sets\n",
        "X_train, X_test, y_train, y_test = train_test_split(X, y, test_size=0.2, random_state=42)\n",
        "\n",
        "# Initialize the Gradient Boosting Classifier\n",
        "# You can tweak hyperparameters such as n_estimators, learning_rate, max_depth, etc.\n",
        "gb_classifier = GradientBoostingClassifier(n_estimators=100, learning_rate=0.1, max_depth=3, random_state=42)\n",
        "\n",
        "# Fit the model to the training data\n",
        "gb_classifier.fit(X_train, y_train)\n",
        "\n",
        "# Make predictions on the test set\n",
        "y_pred = gb_classifier.predict(X_test)\n",
        "\n",
        "# Evaluate the model\n",
        "accuracy = accuracy_score(y_test, y_pred)\n",
        "conf_matrix = confusion_matrix(y_test, y_pred)\n",
        "classification_rep = classification_report(y_test, y_pred)\n",
        "\n",
        "# Print the results\n",
        "print(f'Accuracy: {accuracy:.2f}')\n",
        "print('\\nConfusion Matrix:')\n",
        "print(conf_matrix)\n",
        "print('\\nClassification Report:')\n",
        "print(classification_rep)\n"
      ],
      "metadata": {
        "colab": {
          "base_uri": "https://localhost:8080/"
        },
        "id": "7n8g73NReLVK",
        "outputId": "bd2d5bb0-f479-4a76-abae-01dd3461f469"
      },
      "execution_count": null,
      "outputs": [
        {
          "output_type": "stream",
          "name": "stdout",
          "text": [
            "Accuracy: 0.75\n",
            "\n",
            "Confusion Matrix:\n",
            "[[5052 2038]\n",
            " [1446 5603]]\n",
            "\n",
            "Classification Report:\n",
            "              precision    recall  f1-score   support\n",
            "\n",
            "           0       0.78      0.71      0.74      7090\n",
            "           1       0.73      0.79      0.76      7049\n",
            "\n",
            "    accuracy                           0.75     14139\n",
            "   macro avg       0.76      0.75      0.75     14139\n",
            "weighted avg       0.76      0.75      0.75     14139\n",
            "\n"
          ]
        }
      ]
    },
    {
      "cell_type": "markdown",
      "source": [
        "Dataset 4\n"
      ],
      "metadata": {
        "id": "XmISTBeleUbp"
      }
    },
    {
      "cell_type": "code",
      "source": [
        "import pandas as pd\n",
        "df4 = pd.read_csv('diabetes4.csv')"
      ],
      "metadata": {
        "id": "U-KBDVfbeWap"
      },
      "execution_count": null,
      "outputs": []
    },
    {
      "cell_type": "code",
      "source": [
        "print(df4.dtypes)"
      ],
      "metadata": {
        "colab": {
          "base_uri": "https://localhost:8080/"
        },
        "id": "XP2Ysp5sgQsa",
        "outputId": "ad0a9dc5-a370-4417-b812-a520022c5bc3"
      },
      "execution_count": null,
      "outputs": [
        {
          "output_type": "stream",
          "name": "stdout",
          "text": [
            "Outcome                 int64\n",
            "HighBP                  int64\n",
            "HighChol                int64\n",
            "CholCheck               int64\n",
            "BMI                     int64\n",
            "Smoker                  int64\n",
            "Stroke                  int64\n",
            "HeartDiseaseorAttack    int64\n",
            "PhysActivity            int64\n",
            "Fruits                  int64\n",
            "Veggies                 int64\n",
            "HvyAlcoholConsump       int64\n",
            "AnyHealthcare           int64\n",
            "NoDocbcCost             int64\n",
            "GenHlth                 int64\n",
            "MentHlth                int64\n",
            "PhysHlth                int64\n",
            "DiffWalk                int64\n",
            "Sex                     int64\n",
            "Age                     int64\n",
            "Education               int64\n",
            "Income                  int64\n",
            "dtype: object\n"
          ]
        }
      ]
    },
    {
      "cell_type": "markdown",
      "source": [
        "Code"
      ],
      "metadata": {
        "id": "JEMIrOH4gWmn"
      }
    },
    {
      "cell_type": "code",
      "source": [
        "# Import necessary libraries\n",
        "from sklearn.model_selection import train_test_split\n",
        "from sklearn.ensemble import GradientBoostingClassifier\n",
        "from sklearn.metrics import accuracy_score, classification_report, confusion_matrix\n",
        "\n",
        "# Assuming your DataFrame is named 'df'\n",
        "# Separate features (X) and target variable (y)\n",
        "X = df4.drop('Outcome', axis=1)\n",
        "y = df4['Outcome']\n",
        "\n",
        "# Split the dataset into training and testing sets\n",
        "X_train, X_test, y_train, y_test = train_test_split(X, y, test_size=0.2, random_state=42)\n",
        "\n",
        "# Initialize the Gradient Boosting Classifier\n",
        "# You can tweak hyperparameters such as n_estimators, learning_rate, max_depth, etc.\n",
        "gb_classifier = GradientBoostingClassifier(n_estimators=100, learning_rate=0.1, max_depth=3, random_state=42)\n",
        "\n",
        "# Fit the model to the training data\n",
        "gb_classifier.fit(X_train, y_train)\n",
        "\n",
        "# Make predictions on the test set\n",
        "y_pred = gb_classifier.predict(X_test)\n",
        "\n",
        "# Evaluate the model\n",
        "accuracy = accuracy_score(y_test, y_pred)\n",
        "conf_matrix = confusion_matrix(y_test, y_pred)\n",
        "classification_rep = classification_report(y_test, y_pred)\n",
        "\n",
        "# Print the results\n",
        "print(f'Accuracy: {accuracy:.2f}')\n",
        "print('\\nConfusion Matrix:')\n",
        "print(conf_matrix)\n",
        "print('\\nClassification Report:')\n",
        "print(classification_rep)\n"
      ],
      "metadata": {
        "colab": {
          "base_uri": "https://localhost:8080/"
        },
        "id": "R35K6Sp5gXsa",
        "outputId": "ac23d50a-04f8-4c31-ea8c-e851831e509f"
      },
      "execution_count": null,
      "outputs": [
        {
          "output_type": "stream",
          "name": "stdout",
          "text": [
            "Accuracy: 0.87\n",
            "\n",
            "Confusion Matrix:\n",
            "[[42795   944]\n",
            " [ 5778  1219]]\n",
            "\n",
            "Classification Report:\n",
            "              precision    recall  f1-score   support\n",
            "\n",
            "           0       0.88      0.98      0.93     43739\n",
            "           1       0.56      0.17      0.27      6997\n",
            "\n",
            "    accuracy                           0.87     50736\n",
            "   macro avg       0.72      0.58      0.60     50736\n",
            "weighted avg       0.84      0.87      0.84     50736\n",
            "\n"
          ]
        }
      ]
    }
  ]
}